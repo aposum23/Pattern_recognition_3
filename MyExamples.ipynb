{
 "cells": [
  {
   "cell_type": "code",
   "execution_count": 1,
   "id": "03beeed9",
   "metadata": {},
   "outputs": [],
   "source": [
    "import numpy as np"
   ]
  },
  {
   "cell_type": "code",
   "execution_count": 60,
   "id": "11c11bd7",
   "metadata": {},
   "outputs": [
    {
     "name": "stdout",
     "output_type": "stream",
     "text": [
      "[[5 1 6]\n",
      " [7 3 6]\n",
      " [9 0 4]]\n",
      "[[6 3 7]\n",
      " [4 1 7]\n",
      " [9 5 3]]\n"
     ]
    }
   ],
   "source": [
    "matrix1 = [[5, 1, 6], [7, 3, 6], [9, 0, 4]]\n",
    "matrix2 = [[6, 3, 7], [4, 1, 7], [9, 5, 3]]\n",
    "matrix3 = [[5, 3, 7], [8, 4, 3], [7, 4, 7]]\n",
    "matrix1 = np.matrix(matrix1)\n",
    "matrix2 = np.matrix(matrix2)\n",
    "matrix3 = np.matrix(matrix3)\n",
    "print(matrix1)\n",
    "print(matrix2)"
   ]
  },
  {
   "cell_type": "code",
   "execution_count": 20,
   "id": "a9034889",
   "metadata": {},
   "outputs": [
    {
     "name": "stdout",
     "output_type": "stream",
     "text": [
      "[[5 7 9]\n",
      " [1 3 0]\n",
      " [6 6 4]]\n"
     ]
    }
   ],
   "source": [
    "matrix_t = matrix1.transpose()\n",
    "print(matrix_t)"
   ]
  },
  {
   "cell_type": "code",
   "execution_count": 21,
   "id": "44ae7666",
   "metadata": {},
   "outputs": [
    {
     "name": "stdout",
     "output_type": "stream",
     "text": [
      "[[ True  True  True]\n",
      " [ True  True  True]\n",
      " [ True  True  True]]\n"
     ]
    }
   ],
   "source": [
    "matrix_double_t = matrix_t.transpose()\n",
    "print(matrix_double_t == matrix1)"
   ]
  },
  {
   "cell_type": "code",
   "execution_count": 22,
   "id": "13f0ecdb",
   "metadata": {},
   "outputs": [
    {
     "name": "stdout",
     "output_type": "stream",
     "text": [
      "[[ True  True  True]\n",
      " [ True  True  True]\n",
      " [ True  True  True]]\n"
     ]
    }
   ],
   "source": [
    "matrix_sum = matrix1 + matrix2\n",
    "sum_t = matrix_sum.transpose()\n",
    "matrix_sum_t = matrix1.transpose() + matrix2.transpose()\n",
    "print( sum_t == matrix_sum_t)"
   ]
  },
  {
   "cell_type": "code",
   "execution_count": 23,
   "id": "76191402",
   "metadata": {},
   "outputs": [
    {
     "name": "stdout",
     "output_type": "stream",
     "text": [
      "[[ True  True  True]\n",
      " [ True  True  True]\n",
      " [ True  True  True]]\n"
     ]
    }
   ],
   "source": [
    "matrix_proiz = matrix2 * matrix1\n",
    "proiz_t = matrix_sum.transpose()\n",
    "matrix_proiz_t = matrix1.transpose() * matrix2.transpose()\n",
    "print( sum_t == matrix_sum_t)"
   ]
  },
  {
   "cell_type": "code",
   "execution_count": 24,
   "id": "adc6e4a1",
   "metadata": {},
   "outputs": [
    {
     "name": "stdout",
     "output_type": "stream",
     "text": [
      "-76.0\n",
      "-76.0\n"
     ]
    }
   ],
   "source": [
    "det = np.linalg.det(matrix1)\n",
    "det_t = np.linalg.det(matrix1.transpose())\n",
    "print(det)\n",
    "print(det_t)"
   ]
  },
  {
   "cell_type": "code",
   "execution_count": 25,
   "id": "edfa366b",
   "metadata": {},
   "outputs": [
    {
     "name": "stdout",
     "output_type": "stream",
     "text": [
      "[[5 1 6]\n",
      " [7 3 6]\n",
      " [9 0 4]]\n",
      "[[25  5 30]\n",
      " [35 15 30]\n",
      " [45  0 20]]\n"
     ]
    }
   ],
   "source": [
    "print(matrix1)\n",
    "print(matrix1 * 5)"
   ]
  },
  {
   "cell_type": "code",
   "execution_count": 26,
   "id": "03e8eda1",
   "metadata": {},
   "outputs": [
    {
     "name": "stdout",
     "output_type": "stream",
     "text": [
      "[[5 1 6]\n",
      " [7 3 6]\n",
      " [9 0 4]]\n",
      "[[0 0 0]\n",
      " [0 0 0]\n",
      " [0 0 0]]\n"
     ]
    }
   ],
   "source": [
    "print(matrix1)\n",
    "print(matrix1 * 0)"
   ]
  },
  {
   "cell_type": "code",
   "execution_count": 27,
   "id": "e4aeca56",
   "metadata": {},
   "outputs": [
    {
     "name": "stdout",
     "output_type": "stream",
     "text": [
      "[[ 60  12  72]\n",
      " [ 84  36  72]\n",
      " [108   0  48]]\n",
      "[[ 60  12  72]\n",
      " [ 84  36  72]\n",
      " [108   0  48]]\n"
     ]
    }
   ],
   "source": [
    "s = 5 + 3 + 4\n",
    "print( matrix1 * s)\n",
    "print( matrix1 * 5 + matrix1 * 3 + matrix1 * 4)"
   ]
  },
  {
   "cell_type": "code",
   "execution_count": 28,
   "id": "a0031f6b",
   "metadata": {},
   "outputs": [
    {
     "name": "stdout",
     "output_type": "stream",
     "text": [
      "[[150  30 180]\n",
      " [210  90 180]\n",
      " [270   0 120]]\n",
      "[[150  30 180]\n",
      " [210  90 180]\n",
      " [270   0 120]]\n"
     ]
    }
   ],
   "source": [
    "p = 5 * 6\n",
    "print(matrix1 * p)\n",
    "print(matrix1 * 6 * 5)"
   ]
  },
  {
   "cell_type": "code",
   "execution_count": 29,
   "id": "5062b2f2",
   "metadata": {},
   "outputs": [
    {
     "name": "stdout",
     "output_type": "stream",
     "text": [
      "[[33 12 39]\n",
      " [33 12 39]\n",
      " [54 15 21]]\n",
      "[[33 12 39]\n",
      " [33 12 39]\n",
      " [54 15 21]]\n"
     ]
    }
   ],
   "source": [
    "print((matrix1 + matrix2) * 3)\n",
    "print(matrix1 * 3 + matrix2 * 3)"
   ]
  },
  {
   "cell_type": "code",
   "execution_count": 30,
   "id": "c27fcebe",
   "metadata": {},
   "outputs": [
    {
     "name": "stdout",
     "output_type": "stream",
     "text": [
      "[[11  4 13]\n",
      " [11  4 13]\n",
      " [18  5  7]]\n",
      "[[11  4 13]\n",
      " [11  4 13]\n",
      " [18  5  7]]\n"
     ]
    }
   ],
   "source": [
    "print(matrix1 + matrix2)\n",
    "print(matrix2 + matrix1)"
   ]
  },
  {
   "cell_type": "code",
   "execution_count": 31,
   "id": "bd80a7c2",
   "metadata": {},
   "outputs": [
    {
     "name": "stdout",
     "output_type": "stream",
     "text": [
      "[[16  7 20]\n",
      " [19  8 16]\n",
      " [25  9 14]]\n",
      "[[16  7 20]\n",
      " [19  8 16]\n",
      " [25  9 14]]\n"
     ]
    }
   ],
   "source": [
    "print(matrix1 + (matrix2 + matrix3))\n",
    "print((matrix1 + matrix2) + matrix3)"
   ]
  },
  {
   "cell_type": "code",
   "execution_count": 32,
   "id": "1d5948d0",
   "metadata": {},
   "outputs": [
    {
     "name": "stdout",
     "output_type": "stream",
     "text": [
      "[[0 0 0]\n",
      " [0 0 0]\n",
      " [0 0 0]]\n"
     ]
    }
   ],
   "source": [
    "print(matrix1 + (-1) * matrix1)"
   ]
  },
  {
   "cell_type": "code",
   "execution_count": 33,
   "id": "dd8f2fd0",
   "metadata": {},
   "outputs": [
    {
     "name": "stdout",
     "output_type": "stream",
     "text": [
      "[[1228  688 1174]\n",
      " [1588  892 1534]\n",
      " [1351  758 1296]]\n",
      "[[1228  688 1174]\n",
      " [1588  892 1534]\n",
      " [1351  758 1296]]\n"
     ]
    }
   ],
   "source": [
    "print(matrix1 * (matrix2 * matrix3))\n",
    "print((matrix1 * matrix2) * matrix3)"
   ]
  },
  {
   "cell_type": "code",
   "execution_count": 34,
   "id": "dca65885",
   "metadata": {},
   "outputs": [
    {
     "name": "stdout",
     "output_type": "stream",
     "text": [
      "[[163  89 140]\n",
      " [209 111 188]\n",
      " [163  90 166]]\n",
      "[[163  89 140]\n",
      " [209 111 188]\n",
      " [163  90 166]]\n"
     ]
    }
   ],
   "source": [
    "print(matrix1 * (matrix2 + matrix3))\n",
    "print(matrix1 * matrix2 + matrix1 * matrix3)"
   ]
  },
  {
   "cell_type": "code",
   "execution_count": 35,
   "id": "4ade77ba",
   "metadata": {},
   "outputs": [
    {
     "name": "stdout",
     "output_type": "stream",
     "text": [
      "[[ 88  46  60]\n",
      " [108  54  88]\n",
      " [ 90  47  75]]\n",
      "[[114  15  82]\n",
      " [ 90   7  58]\n",
      " [107  24  96]]\n"
     ]
    }
   ],
   "source": [
    "print(matrix1 * matrix2)\n",
    "print(matrix2 * matrix1)"
   ]
  },
  {
   "cell_type": "code",
   "execution_count": 37,
   "id": "293b219a",
   "metadata": {},
   "outputs": [
    {
     "name": "stdout",
     "output_type": "stream",
     "text": [
      "[[ True  True  True]\n",
      " [ True  True  True]\n",
      " [ True  True  True]]\n",
      "[[ True  True  True]\n",
      " [ True  True  True]\n",
      " [ True  True  True]]\n",
      "[[5 1 6]\n",
      " [7 3 6]\n",
      " [9 0 4]]\n"
     ]
    }
   ],
   "source": [
    "e = np.matrix([[1, 0, 0], [0, 1, 0], [0, 0, 1]])\n",
    "print(e * matrix1 == matrix1 * e)\n",
    "print(e * matrix1 == matrix1)\n",
    "print(e * matrix1)"
   ]
  },
  {
   "cell_type": "code",
   "execution_count": 44,
   "id": "bcc7d8ef",
   "metadata": {},
   "outputs": [
    {
     "name": "stdout",
     "output_type": "stream",
     "text": [
      "[[0 0 0]\n",
      " [0 0 0]\n",
      " [0 0 0]]\n",
      "[[ True  True  True]\n",
      " [ True  True  True]\n",
      " [ True  True  True]]\n",
      "[[ True  True  True]\n",
      " [ True  True  True]\n",
      " [ True  True  True]]\n",
      "[[0 0 0]\n",
      " [0 0 0]\n",
      " [0 0 0]]\n"
     ]
    }
   ],
   "source": [
    "z = np.matrix([[0, 0, 0], [0, 0, 0], [0, 0, 0]])\n",
    "print(z * matrix1 == matrix1 * z)\n",
    "print(z * matrix1 == z)\n",
    "print(z * matrix1)"
   ]
  },
  {
   "cell_type": "code",
   "execution_count": 45,
   "id": "be8767e4",
   "metadata": {},
   "outputs": [
    {
     "name": "stdout",
     "output_type": "stream",
     "text": [
      "-76.0\n",
      "-76.0\n"
     ]
    }
   ],
   "source": [
    "print(np.linalg.det(matrix1))\n",
    "print(np.linalg.det(matrix1.transpose()))"
   ]
  },
  {
   "cell_type": "code",
   "execution_count": 46,
   "id": "326e8002",
   "metadata": {},
   "outputs": [
    {
     "name": "stdout",
     "output_type": "stream",
     "text": [
      "0.0\n"
     ]
    }
   ],
   "source": [
    "A = np.matrix([[6, 3, 5], [0, 0, 0], [7, 3, 6]])\n",
    "print(np.linalg.det(A))"
   ]
  },
  {
   "cell_type": "code",
   "execution_count": 61,
   "id": "ab5b6abd",
   "metadata": {},
   "outputs": [
    {
     "name": "stdout",
     "output_type": "stream",
     "text": [
      "2.9999999999999996\n",
      "-2.9999999999999996\n"
     ]
    }
   ],
   "source": [
    "a = [[5, 3, 7], [8, 4, 3], [7, 4, 7]]\n",
    "a = np.matrix(a)\n",
    "b = [[5, 3, 7], [7, 4, 7], [8, 4, 3]]\n",
    "b = np.matrix(b)\n",
    "print(np.linalg.det(a))\n",
    "print(np.linalg.det(b))"
   ]
  },
  {
   "cell_type": "code",
   "execution_count": 62,
   "id": "6d881b42",
   "metadata": {},
   "outputs": [
    {
     "name": "stdout",
     "output_type": "stream",
     "text": [
      "0.0\n"
     ]
    }
   ],
   "source": [
    "b = [[5, 3, 7], [7, 4, 7], [7, 4, 7]]\n",
    "b = np.matrix(b)\n",
    "print(np.linalg.det(b))"
   ]
  },
  {
   "cell_type": "code",
   "execution_count": 63,
   "id": "f4279e71",
   "metadata": {},
   "outputs": [
    {
     "name": "stdout",
     "output_type": "stream",
     "text": [
      "-2.9999999999999996\n",
      "-14.999999999999927\n"
     ]
    }
   ],
   "source": [
    "b = [[5, 3, 7], [7, 4, 7], [8, 4, 3]]\n",
    "b = np.matrix(b)\n",
    "print(np.linalg.det(b))\n",
    "b[0] *= 5\n",
    "print(np.linalg.det(b))"
   ]
  },
  {
   "cell_type": "code",
   "execution_count": null,
   "id": "fd690ee2",
   "metadata": {},
   "outputs": [],
   "source": []
  }
 ],
 "metadata": {
  "kernelspec": {
   "display_name": "Python 3 (ipykernel)",
   "language": "python",
   "name": "python3"
  },
  "language_info": {
   "codemirror_mode": {
    "name": "ipython",
    "version": 3
   },
   "file_extension": ".py",
   "mimetype": "text/x-python",
   "name": "python",
   "nbconvert_exporter": "python",
   "pygments_lexer": "ipython3",
   "version": "3.9.7"
  }
 },
 "nbformat": 4,
 "nbformat_minor": 5
}
