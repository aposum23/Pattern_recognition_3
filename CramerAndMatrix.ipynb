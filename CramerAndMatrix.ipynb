{
 "cells": [
  {
   "cell_type": "code",
   "execution_count": 1,
   "id": "6726ead4",
   "metadata": {},
   "outputs": [
    {
     "name": "stdout",
     "output_type": "stream",
     "text": [
      "[ 1.  -0.2]\n"
     ]
    }
   ],
   "source": [
    "import numpy\n",
    "\n",
    "M1 = numpy.array([[2., 5.], [1., -10.]])\n",
    "v1 = numpy.array([1., 3.])\n",
    "print(numpy.linalg.solve(M1, v1))"
   ]
  },
  {
   "cell_type": "code",
   "execution_count": 2,
   "id": "6d42896f",
   "metadata": {},
   "outputs": [
    {
     "name": "stdout",
     "output_type": "stream",
     "text": [
      "[0. 1. 2. 1.]\n"
     ]
    }
   ],
   "source": [
    "M2 = numpy.array([[1., 0., 1., 0.], [-1., 1., -2., 1.], [4., 0., 1., -2.], [-4., 4., 0., 1.]])\n",
    "\n",
    "print(numpy.linalg.solve(M2, v2))"
   ]
  },
  {
   "cell_type": "code",
   "execution_count": null,
   "id": "fb3de2ac",
   "metadata": {},
   "outputs": [],
   "source": []
  }
 ],
 "metadata": {
  "kernelspec": {
   "display_name": "Python 3 (ipykernel)",
   "language": "python",
   "name": "python3"
  },
  "language_info": {
   "codemirror_mode": {
    "name": "ipython",
    "version": 3
   },
   "file_extension": ".py",
   "mimetype": "text/x-python",
   "name": "python",
   "nbconvert_exporter": "python",
   "pygments_lexer": "ipython3",
   "version": "3.9.7"
  }
 },
 "nbformat": 4,
 "nbformat_minor": 5
}
